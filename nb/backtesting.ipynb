{
 "cells": [
  {
   "cell_type": "code",
   "execution_count": 3,
   "metadata": {},
   "outputs": [
    {
     "name": "stdout",
     "output_type": "stream",
     "text": [
      "Added project root to sys.path: /Users/falconlin/Development/backtesting-playground/trading\n",
      "Changed current working directory to: /Users/falconlin/Development/backtesting-playground/trading\n",
      "Initialized project with base directory: /Users/falconlin/Development/backtesting-playground/trading\n"
     ]
    }
   ],
   "source": [
    "import nb_setup\n",
    "import importlib\n",
    "\n",
    "importlib.reload(nb_setup)\n",
    "nb_setup.init()"
   ]
  },
  {
   "cell_type": "code",
   "execution_count": 4,
   "metadata": {},
   "outputs": [],
   "source": [
    "import pandas as pd\n",
    "from settings import DATA_DIR\n",
    "\n",
    "_df = pd.read_csv(DATA_DIR / \"all.csv\", parse_dates=[1, 2])\n",
    "_df.set_index([\"symbol\", \"start_time\"], inplace=True)\n",
    "df = _df.drop(\n",
    "    columns=[\n",
    "        \"pct_change\",\n",
    "        \"accumulated_pct_change\",\n",
    "        \"rolling_accumulated_pct_change\",\n",
    "    ]\n",
    ")\n",
    "df = df.sort_index()\n",
    "# df.head()"
   ]
  },
  {
   "cell_type": "code",
   "execution_count": 9,
   "metadata": {},
   "outputs": [
    {
     "data": {
      "text/plain": [
       "<models.mock_trading.backtesting.BackTesting at 0x1275d1450>"
      ]
     },
     "execution_count": 9,
     "metadata": {},
     "output_type": "execute_result"
    }
   ],
   "source": [
    "import models.mock_trading.backtesting as backtesting\n",
    "\n",
    "importlib.reload(backtesting)\n",
    "\n",
    "bt = backtesting.BackTesting(\n",
    "    initial_cash=100,\n",
    "    data=df,\n",
    "    verbose=True,\n",
    "    slippage_rate=0.0,\n",
    "    transaction_commission_rate=0.0,\n",
    ")\n",
    "bt"
   ]
  },
  {
   "cell_type": "code",
   "execution_count": 12,
   "metadata": {},
   "outputs": [
    {
     "name": "stdout",
     "output_type": "stream",
     "text": [
      "------- 0 0 data shape (57, 10) -------\n",
      "Running strategy on 2024-02-10 00:00:00\n",
      "| 2024-02-10 00:00:00 (57, 10)\n",
      "| 2024-02-09 23:45:00 (0, 16)\n",
      "no coins to trade\n",
      "Best Balance: 100.26547241530622 Worst Balance: 100.26547241530622 Close Balance: 100.26547241530622\n",
      "------- 1 0 data shape (57, 10) -------\n",
      "Running strategy on 2024-02-10 00:15:00\n",
      "| 2024-02-10 00:15:00 (57, 10)\n",
      "| 2024-02-10 00:00:00 (57, 16)\n",
      "ranks: [nan nan nan nan nan nan nan nan nan nan] [nan nan nan nan nan nan nan nan nan nan]\n",
      "no rank\n",
      "Best Balance: 100.26547241530622 Worst Balance: 100.26547241530622 Close Balance: 100.26547241530622\n",
      "------- 2 0 data shape (57, 10) -------\n",
      "Running strategy on 2024-02-10 00:30:00\n",
      "| 2024-02-10 00:30:00 (57, 10)\n",
      "| 2024-02-10 00:15:00 (57, 16)\n",
      "ranks: [nan nan nan nan nan nan nan nan nan nan] [nan nan nan nan nan nan nan nan nan nan]\n",
      "no rank\n",
      "Best Balance: 100.26547241530622 Worst Balance: 100.26547241530622 Close Balance: 100.26547241530622\n",
      "------- 3 0 data shape (57, 10) -------\n",
      "Running strategy on 2024-02-10 00:45:00\n",
      "| 2024-02-10 00:45:00 (57, 10)\n",
      "| 2024-02-10 00:30:00 (57, 16)\n",
      "long coins ['DYDX', 'PEOPLE', 'ADA', 'YGG', 'RUNE', 'TIA', 'kPEPE', 'FET', 'NFTI', 'SUI'] short coins ['APT', 'FIL', 'DOT', 'ARB', 'ORDI', 'INJ', 'OP', 'SEI', 'AI', 'STX']\n",
      "long rank [ 4.   7.5  8.   9.   9.5  9.5 11.5 12.  15.  16. ] short rank [41.  42.  44.  45.  45.  46.  47.5 50.  50.5 55. ]\n",
      "PositionType.SHORT APT  0.5514242557075633 @ 9.0915 \n",
      "Current cash: 100.26547241530622 New cash: 105.27874603607154: +- 5.013273620765311 - 0.0 : total 5.013273620765318\n",
      "PositionType.SHORT FIL  0.916637464485722 @ 5.4692 \n",
      "Current cash: 105.27874603607154 New cash: 110.29201965683686: +- 5.013273620765311 - 0.0 : total 5.013273620765318\n",
      "PositionType.SHORT DOT  0.6930058501769828 @ 7.2341 \n",
      "Current cash: 110.29201965683686 New cash: 115.30529327760217: +- 5.013273620765311 - 0.0 : total 5.013273620765318\n",
      "PositionType.SHORT ARB  2.5241798604125227 @ 1.9861 \n",
      "Current cash: 115.30529327760217 New cash: 120.3185668983675: +- 5.013273620765311 - 0.0 : total 5.013273620765318\n",
      "PositionType.SHORT ORDI  0.08065631026393769 @ 62.156 \n",
      "Current cash: 120.3185668983675 New cash: 125.33184051913281: +- 5.013273620765311 - 0.0 : total 5.013273620765318\n",
      "PositionType.SHORT INJ  0.14331418829551215 @ 34.981 \n",
      "Current cash: 125.33184051913281 New cash: 130.34511413989813: +- 5.013273620765311 - 0.0 : total 5.013273620765318\n",
      "PositionType.SHORT OP  1.4422951237852961 @ 3.4759 \n",
      "Current cash: 130.34511413989813 New cash: 135.35838776066345: +- 5.013273620765311 - 0.0 : total 5.013273620765318\n",
      "PositionType.SHORT SEI  7.042004776959603 @ 0.71191 \n",
      "Current cash: 135.35838776066345 New cash: 140.37166138142877: +- 5.013273620765311 - 0.0 : total 5.013273620765318\n",
      "PositionType.SHORT AI  4.218577913432834 @ 1.18838 \n",
      "Current cash: 140.37166138142877 New cash: 145.38493500219408: +- 5.013273620765311 - 0.0 : total 5.013273620765318\n",
      "PositionType.SHORT STX  2.7888705055436755 @ 1.7976 \n",
      "Current cash: 145.38493500219408 New cash: 150.3982086229594: +- 5.013273620765311 - 0.0 : total 5.013273620765318\n",
      "PositionType.LONG DYDX  1.6672565169328248 @ 3.0069 \n",
      "Current cash: 150.3982086229594 New cash: 145.38493500219408: +- 5.013273620765311 - 0.0 : total -5.013273620765318\n",
      "PositionType.LONG PEOPLE  178.87300177562034 @ 0.028027 \n",
      "Current cash: 145.38493500219408 New cash: 140.37166138142877: +- 5.013273620765311 - 0.0 : total -5.013273620765318\n",
      "PositionType.LONG ADA  9.171573188864658 @ 0.54661 \n",
      "Current cash: 140.37166138142877 New cash: 135.35838776066345: +- 5.013273620765311 - 0.0 : total -5.013273620765318\n",
      "PositionType.LONG YGG  11.061945323842258 @ 0.4532 \n",
      "Current cash: 135.35838776066345 New cash: 130.34511413989813: +- 5.013273620765311 - 0.0 : total -5.013273620765318\n",
      "PositionType.LONG RUNE  0.9452942679724915 @ 5.3034 \n",
      "Current cash: 130.34511413989813 New cash: 125.33184051913281: +- 5.013273620765311 - 0.0 : total -5.013273620765318\n",
      "PositionType.LONG TIA  0.2511408486507019 @ 19.962 \n",
      "Current cash: 125.33184051913281 New cash: 120.3185668983675: +- 5.013273620765311 - 0.0 : total -5.013273620765318\n",
      "PositionType.LONG kPEPE  4886.231599186463 @ 0.001026 \n",
      "Current cash: 120.3185668983675 New cash: 115.30529327760217: +- 5.013273620765312 - 0.0 : total -5.013273620765318\n",
      "PositionType.LONG FET  8.222255495580448 @ 0.60972 \n",
      "Current cash: 115.30529327760217 New cash: 110.29201965683686: +- 5.013273620765311 - 0.0 : total -5.013273620765318\n",
      "PositionType.LONG NFTI  0.5295189510293328 @ 9.4676 \n",
      "Current cash: 110.29201965683686 New cash: 105.27874603607155: +- 5.01327362076531 - 0.0 : total -5.013273620765304\n",
      "PositionType.LONG SUI  2.7958695113297147 @ 1.7931 \n",
      "Current cash: 105.27874603607155 New cash: 100.26547241530625: +- 5.013273620765311 - 0.0 : total -5.013273620765304\n",
      "closing positions\n",
      "PositionType.LONG APT  0.5514242557075633 @ 9.0799 \n",
      "Current cash: 100.26547241530625 New cash: 95.25859531590714: +- 5.006877099399103 - 0.0 : total -5.006877099399105\n",
      "PositionType.LONG FIL  0.916637464485722 @ 5.4233 \n",
      "Current cash: 95.25859531590714 New cash: 90.28739535476173: +- 4.971199961145416 - 0.0 : total -4.971199961145416\n",
      "PositionType.LONG DOT  0.6930058501769828 @ 7.2129 \n",
      "Current cash: 90.28739535476173 New cash: 85.28881345802017: +- 4.99858189674156 - 0.0 : total -4.998581896741555\n",
      "PositionType.LONG ARB  2.5241798604125227 @ 1.9794 \n",
      "Current cash: 85.28881345802017 New cash: 80.29245184231962: +- 4.996361615700548 - 0.0 : total -4.99636161570055\n",
      "PositionType.LONG ORDI  0.08065631026393769 @ 61.583 \n",
      "Current cash: 80.29245184231962 New cash: 75.32539428733554: +- 4.967057554984074 - 0.0 : total -4.9670575549840805\n",
      "PositionType.LONG INJ  0.14331418829551215 @ 35.105 \n",
      "Current cash: 75.32539428733554 New cash: 70.29434970722158: +- 5.031044580113954 - 0.0 : total -5.0310445801139565\n",
      "PositionType.LONG OP  1.4422951237852961 @ 3.4295 \n",
      "Current cash: 70.29434970722158 New cash: 65.34799858019991: +- 4.946351127021673 - 0.0 : total -4.946351127021671\n",
      "PositionType.LONG SEI  7.042004776959603 @ 0.70812 \n",
      "Current cash: 65.34799858019991 New cash: 60.36141415753928: +- 4.986584422660634 - 0.0 : total -4.986584422660634\n",
      "PositionType.LONG AI  4.218577913432834 @ 1.18129 \n",
      "Current cash: 60.36141415753928 New cash: 55.37805025418021: +- 4.983363903359073 - 0.0 : total -4.98336390335907\n",
      "PositionType.LONG STX  2.7888705055436755 @ 1.7909 \n",
      "Current cash: 55.37805025418021 New cash: 50.38346206580204: +- 4.994588188378168 - 0.0 : total -4.994588188378167\n",
      "PositionType.SHORT DYDX  1.6672565169328248 @ 3.0449 \n",
      "Current cash: 50.38346206580204 New cash: 55.4600914342108: +- 5.076629368408758 - 0.0 : total 5.07662936840876\n",
      "PositionType.SHORT PEOPLE  178.87300177562034 @ 0.027877 \n",
      "Current cash: 55.4600914342108 New cash: 60.44653410470977: +- 4.986442670498968 - 0.0 : total 4.986442670498967\n",
      "PositionType.SHORT ADA  9.171573188864658 @ 0.54586 \n",
      "Current cash: 60.44653410470977 New cash: 65.45292904558343: +- 5.006394940873662 - 0.0 : total 5.006394940873662\n",
      "PositionType.SHORT YGG  11.061945323842258 @ 0.45314 \n",
      "Current cash: 65.45292904558343 New cash: 70.4655389496293: +- 5.01260990404588 - 0.0 : total 5.012609904045874\n",
      "PositionType.SHORT RUNE  0.9452942679724915 @ 5.3142 \n",
      "Current cash: 70.4655389496293 New cash: 75.48902174848872: +- 5.023482798859414 - 0.0 : total 5.023482798859419\n",
      "PositionType.SHORT TIA  0.2511408486507019 @ 19.961 \n",
      "Current cash: 75.48902174848872 New cash: 80.50204422840538: +- 5.0130224799166605 - 0.0 : total 5.013022479916657\n",
      "PositionType.SHORT kPEPE  4886.231599186463 @ 0.001023 \n",
      "Current cash: 80.50204422840538 New cash: 85.50065915437314: +- 4.998614925967752 - 0.0 : total 4.9986149259677575\n",
      "PositionType.SHORT FET  8.222255495580448 @ 0.60834 \n",
      "Current cash: 85.50065915437314 New cash: 90.50258606255454: +- 5.00192690818141 - 0.0 : total 5.001926908181403\n",
      "PositionType.SHORT NFTI  0.5295189510293328 @ 9.4676 \n",
      "Current cash: 90.50258606255454 New cash: 95.51585968331985: +- 5.01327362076531 - 0.0 : total 5.013273620765304\n",
      "PositionType.SHORT SUI  2.7958695113297147 @ 1.794 \n",
      "Current cash: 95.51585968331985 New cash: 100.53164958664536: +- 5.0157899033255084 - 0.0 : total 5.015789903325512\n",
      "Best Balance: 100.53164958664536 Worst Balance: 100.53164958664536 Close Balance: 100.53164958664536\n"
     ]
    }
   ],
   "source": [
    "bt.run_strategy(trading_interval=1, loop=4)"
   ]
  },
  {
   "cell_type": "code",
   "execution_count": null,
   "metadata": {},
   "outputs": [],
   "source": []
  },
  {
   "cell_type": "code",
   "execution_count": null,
   "metadata": {},
   "outputs": [],
   "source": []
  },
  {
   "cell_type": "code",
   "execution_count": null,
   "metadata": {},
   "outputs": [],
   "source": []
  },
  {
   "cell_type": "code",
   "execution_count": null,
   "metadata": {},
   "outputs": [],
   "source": []
  }
 ],
 "metadata": {
  "kernelspec": {
   "display_name": "env",
   "language": "python",
   "name": "python3"
  },
  "language_info": {
   "codemirror_mode": {
    "name": "ipython",
    "version": 3
   },
   "file_extension": ".py",
   "mimetype": "text/x-python",
   "name": "python",
   "nbconvert_exporter": "python",
   "pygments_lexer": "ipython3",
   "version": "3.11.4"
  }
 },
 "nbformat": 4,
 "nbformat_minor": 2
}
