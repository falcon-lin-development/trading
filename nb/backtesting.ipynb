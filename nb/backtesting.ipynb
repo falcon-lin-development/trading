{
 "cells": [
  {
   "cell_type": "code",
   "execution_count": 8,
   "metadata": {},
   "outputs": [
    {
     "name": "stdout",
     "output_type": "stream",
     "text": [
      "Changed current working directory to: /Users/falconlin/Development/trading\n",
      "Initialized project with base directory: /Users/falconlin/Development/trading\n"
     ]
    }
   ],
   "source": [
    "import nb_setup \n",
    "import importlib\n",
    "importlib.reload(nb_setup)\n",
    "nb_setup.init()"
   ]
  },
  {
   "cell_type": "code",
   "execution_count": 9,
   "metadata": {},
   "outputs": [],
   "source": [
    "import pandas as pd\n",
    "from settings import DATA_DIR\n",
    "\n",
    "_df = pd.read_csv(DATA_DIR / \"all.csv\", parse_dates=[1, 2])\n",
    "_df.set_index([\"symbol\", \"start_time\"], inplace=True)\n",
    "df = _df.drop(\n",
    "    columns=[\n",
    "        \"pct_change\",\n",
    "        \"accumulated_pct_change\",\n",
    "        \"rolling_accumulated_pct_change\",\n",
    "    ]\n",
    ")\n",
    "df = df.sort_index()\n",
    "# df.head()"
   ]
  },
  {
   "cell_type": "code",
   "execution_count": 16,
   "metadata": {},
   "outputs": [
    {
     "data": {
      "text/plain": [
       "<models.mock_trading.backtesting.BackTesting at 0x108307250>"
      ]
     },
     "execution_count": 16,
     "metadata": {},
     "output_type": "execute_result"
    }
   ],
   "source": [
    "import models.mock_trading.backtesting as backtesting\n",
    "importlib.reload(backtesting)\n",
    "\n",
    "bt = backtesting.BackTesting(initial_cash=100, data=df, verbose=True)\n",
    "bt"
   ]
  },
  {
   "cell_type": "code",
   "execution_count": 17,
   "metadata": {},
   "outputs": [
    {
     "name": "stdout",
     "output_type": "stream",
     "text": [
      "------- 0 0 data shape (57, 10) -------\n",
      "Running strategy on 2024-02-10 00:00:00\n",
      "2024-02-10 00:00:00 (57, 16)\n",
      "long coins ['AAVE', 'ADA', 'AI', 'ALT', 'APT', 'ARB', 'ATOM', 'AVAX', 'BCH', 'BLUR'] short coins ['TIA', 'UNI', 'WIF', 'WLD', 'XAI', 'XRP', 'YGG', 'kBONK', 'kPEPE', 'kSHIB']\n",
      "long rank [nan nan nan nan nan nan nan nan nan nan] short rank [nan nan nan nan nan nan nan nan nan nan]\n",
      "closing positions\n",
      "Portfolio:\n",
      "\tCash: 100\n",
      "------- 1 0 data shape (57, 10) -------\n",
      "Running strategy on 2024-02-10 00:15:00\n",
      "2024-02-10 00:15:00 (57, 16)\n",
      "long coins ['AAVE', 'ADA', 'AI', 'ALT', 'APT', 'ARB', 'ATOM', 'AVAX', 'BCH', 'BLUR'] short coins ['TIA', 'UNI', 'WIF', 'WLD', 'XAI', 'XRP', 'YGG', 'kBONK', 'kPEPE', 'kSHIB']\n",
      "long rank [nan nan nan nan nan nan nan nan nan nan] short rank [nan nan nan nan nan nan nan nan nan nan]\n",
      "closing positions\n",
      "Portfolio:\n",
      "\tCash: 100\n",
      "------- 2 0 data shape (57, 10) -------\n",
      "Running strategy on 2024-02-10 00:30:00\n",
      "2024-02-10 00:30:00 (57, 16)\n",
      "long coins ['DYDX', 'PEOPLE', 'ADA', 'YGG', 'RUNE', 'TIA', 'kPEPE', 'FET', 'NFTI', 'SUI'] short coins ['APT', 'FIL', 'DOT', 'ARB', 'ORDI', 'INJ', 'OP', 'SEI', 'AI', 'STX']\n",
      "long rank [ 4.   7.5  8.   9.   9.5  9.5 11.5 12.  15.  16. ] short rank [41.  42.  44.  45.  45.  46.  47.5 50.  50.5 55. ]\n",
      "PositionType.SHORT APT  0.5455828288410753 @ 9.1645113 \n",
      "Current cash: 100 New cash: 104.99875: +- 5.0 - 0.00125 : total 4.998750000000001\n",
      "PositionType.SHORT FIL  0.9072295380002529 @ 5.511284399999999 \n",
      "Current cash: 104.99875 New cash: 109.9975: +- 5.0 - 0.00125 : total 4.998750000000001\n",
      "PositionType.SHORT DOT  0.6855782137174631 @ 7.293113899999999 \n",
      "Current cash: 109.9975 New cash: 114.99625: +- 5.0 - 0.00125 : total 4.998750000000001\n",
      "PositionType.SHORT ARB  2.495017450152047 @ 2.0039939999999996 \n",
      "Current cash: 114.99625 New cash: 119.995: +- 5.0 - 0.00125 : total 4.998750000000001\n",
      "PositionType.SHORT ORDI  0.07950122584530156 @ 62.892112 \n",
      "Current cash: 119.995 New cash: 124.99375: +- 5.0 - 0.00125 : total 4.998750000000001\n",
      "PositionType.SHORT INJ  0.1411674132869988 @ 35.418939 \n",
      "Current cash: 124.99375 New cash: 129.9925: +- 5.0 - 0.00125 : total 4.998750000000001\n",
      "PositionType.SHORT OP  1.4232412680305455 @ 3.5131078 \n",
      "Current cash: 129.9925 New cash: 134.99125: +- 5.0 - 0.00125 : total 4.998750000000001\n",
      "PositionType.SHORT SEI  7.009638856256295 @ 0.7133035099999999 \n",
      "Current cash: 134.99125 New cash: 139.99: +- 5.0 - 0.00125 : total 4.998750000000001\n",
      "PositionType.SHORT AI  4.158639937102734 @ 1.2023161599999999 \n",
      "Current cash: 139.99 New cash: 144.98875: +- 5.0 - 0.00125 : total 4.998750000000001\n",
      "PositionType.SHORT STX  2.7708547970673054 @ 1.8044972999999997 \n",
      "Current cash: 144.98875 New cash: 149.9875: +- 5.0 - 0.00125 : total 4.998750000000001\n",
      "PositionType.LONG DYDX  1.663289468287274 @ 3.0060912999999996 \n",
      "Current cash: 149.9875 New cash: 144.98625: +- 5.0 - 0.00125 : total -5.001249999999999\n",
      "PositionType.LONG PEOPLE  178.0055299197925 @ 0.028089014999999995 \n",
      "Current cash: 144.98625 New cash: 139.985: +- 5.0 - 0.00125 : total -5.001249999999999\n",
      "PositionType.LONG ADA  9.108931360030311 @ 0.54891181 \n",
      "Current cash: 139.985 New cash: 134.98375000000001: +- 5.0 - 0.00125 : total -5.001249999999999\n",
      "PositionType.LONG YGG  10.980758767795473 @ 0.45534193999999995 \n",
      "Current cash: 134.98375000000001 New cash: 129.98250000000002: +- 5.0 - 0.00125 : total -5.001249999999999\n",
      "PositionType.LONG RUNE  0.9411249722297551 @ 5.312790699999999 \n",
      "Current cash: 129.98250000000002 New cash: 124.98125000000002: +- 5.0 - 0.00125 : total -5.001249999999999\n",
      "PositionType.LONG TIA  0.2500398688570893 @ 19.996810999999997 \n",
      "Current cash: 124.98125000000002 New cash: 119.98000000000002: +- 5.0 - 0.00125 : total -5.001249999999999\n",
      "PositionType.LONG kPEPE  4858.718192401354 @ 0.001029078 \n",
      "Current cash: 119.98000000000002 New cash: 114.97875000000002: +- 5.0 - 0.00125 : total -5.001249999999999\n",
      "PositionType.LONG FET  8.15055895066183 @ 0.6134548599999999 \n",
      "Current cash: 114.97875000000002 New cash: 109.97750000000002: +- 4.999999999999999 - 0.0012499999999999998 : total -5.001249999999999\n",
      "PositionType.LONG NFTI  0.5265373342139286 @ 9.496002799999998 \n",
      "Current cash: 109.97750000000002 New cash: 104.97625000000002: +- 5.0 - 0.00125 : total -5.001249999999999\n",
      "PositionType.LONG SUI  2.7841635662685222 @ 1.7958714999999998 \n",
      "Current cash: 104.97625000000002 New cash: 99.97500000000002: +- 5.0 - 0.00125 : total -5.001249999999999\n",
      "closing positions\n",
      "PositionType.LONG APT  0.5455828288410753 @ 9.1291054 \n",
      "Current cash: 99.97500000000002 New cash: 94.99431685107969: +- 4.9806831489203365 - 0.0 : total -4.980683148920335\n",
      "PositionType.LONG FIL  0.9072295380002529 @ 5.4873126999999995 \n",
      "Current cash: 94.99431685107969 New cash: 90.01606468539578: +- 4.978252165683919 - 0.0 : total -4.978252165683912\n",
      "PositionType.LONG DOT  0.6855782137174631 @ 7.255802299999999 \n",
      "Current cash: 90.01606468539578 New cash: 85.04164470547471: +- 4.97441997992106 - 0.0 : total -4.974419979921066\n",
      "PositionType.LONG ARB  2.495017450152047 @ 1.9936630999999998 \n",
      "Current cash: 85.04164470547471 New cash: 80.06742048125048: +- 4.974224224224225 - 0.0 : total -4.97422422422423\n",
      "PositionType.LONG ORDI  0.07950122584530156 @ 62.45079199999999 \n",
      "Current cash: 80.06742048125048 New cash: 75.10250596224053: +- 4.964914519009952 - 0.0 : total -4.964914519009952\n",
      "PositionType.LONG INJ  0.1411674132869988 @ 35.141107999999996 \n",
      "Current cash: 75.10250596224053 New cash: 70.14172664584147: +- 4.9607793163990594 - 0.0 : total -4.960779316399055\n",
      "PositionType.LONG OP  1.4232412680305455 @ 3.4926465999999996 \n",
      "Current cash: 70.14172664584147 New cash: 65.1708478700749: +- 4.970878775766573 - 0.0 : total -4.970878775766579\n",
      "PositionType.LONG SEI  7.009638856256295 @ 0.7143366 \n",
      "Current cash: 65.1708478700749 New cash: 60.16360628226889: +- 5.007241587806011 - 0.0 : total -5.007241587806007\n",
      "PositionType.LONG AI  4.158639937102734 @ 1.1919351099999997 \n",
      "Current cash: 60.16360628226889 New cash: 55.20677733138795: +- 4.956828950880939 - 0.0 : total -4.95682895088094\n",
      "PositionType.LONG STX  2.7708547970673054 @ 1.8044972999999997 \n",
      "Current cash: 55.20677733138795 New cash: 50.20677733138795: +- 5.0 - 0.0 : total -5.0\n",
      "PositionType.SHORT DYDX  1.663289468287274 @ 2.9982781 \n",
      "Current cash: 50.20677733138795 New cash: 55.19378171811432: +- 4.987004386726378 - 0.0 : total 4.987004386726376\n",
      "PositionType.SHORT PEOPLE  178.0055299197925 @ 0.027954883 \n",
      "Current cash: 55.19378171811432 New cash: 60.16990548037512: +- 4.976123762260799 - 0.0 : total 4.976123762260798\n",
      "PositionType.SHORT ADA  9.108931360030311 @ 0.5457976800000001 \n",
      "Current cash: 60.16990548037512 New cash: 65.1415390839589: +- 4.971633603583789 - 0.0 : total 4.971633603583783\n",
      "PositionType.SHORT YGG  10.980758767795473 @ 0.45239872 \n",
      "Current cash: 65.1415390839589 New cash: 70.10922029513836: +- 4.967681211179449 - 0.0 : total 4.967681211179453\n",
      "PositionType.SHORT RUNE  0.9411249722297551 @ 5.2886862 \n",
      "Current cash: 70.10922029513836 New cash: 75.08653494824524: +- 4.977314653106889 - 0.0 : total 4.9773146531068875\n",
      "PositionType.SHORT TIA  0.2500398688570893 @ 19.953958 \n",
      "Current cash: 75.08653494824524 New cash: 80.07581998974511: +- 4.989285041499867 - 0.0 : total 4.989285041499869\n",
      "PositionType.SHORT kPEPE  4858.718192401354 @ 0.001024916 \n",
      "Current cash: 80.07581998974511 New cash: 85.05559800462834: +- 4.979778014883227 - 0.0 : total 4.979778014883223\n",
      "PositionType.SHORT FET  8.15055895066183 @ 0.6098250199999999 \n",
      "Current cash: 85.05559800462834 New cash: 90.02601277972687: +- 4.970414775098529 - 0.0 : total 4.970414775098533\n",
      "PositionType.SHORT NFTI  0.5265373342139286 @ 9.439197199999999 \n",
      "Current cash: 90.02601277972687 New cash: 94.99610251053444: +- 4.970089730807578 - 0.0 : total 4.970089730807572\n",
      "PositionType.SHORT SUI  2.7841635662685222 @ 1.789615 \n",
      "Current cash: 94.99610251053444 New cash: 99.97868339118209: +- 4.9825808806476415 - 0.0 : total 4.982580880647646\n",
      "Portfolio:\n",
      "\tCash: 99.97868339118209\n"
     ]
    }
   ],
   "source": [
    "bt.run_strategy(trading_interval=1)"
   ]
  },
  {
   "cell_type": "code",
   "execution_count": null,
   "metadata": {},
   "outputs": [],
   "source": []
  },
  {
   "cell_type": "code",
   "execution_count": null,
   "metadata": {},
   "outputs": [],
   "source": []
  },
  {
   "cell_type": "code",
   "execution_count": null,
   "metadata": {},
   "outputs": [],
   "source": []
  },
  {
   "cell_type": "code",
   "execution_count": null,
   "metadata": {},
   "outputs": [],
   "source": []
  }
 ],
 "metadata": {
  "kernelspec": {
   "display_name": "env",
   "language": "python",
   "name": "python3"
  },
  "language_info": {
   "codemirror_mode": {
    "name": "ipython",
    "version": 3
   },
   "file_extension": ".py",
   "mimetype": "text/x-python",
   "name": "python",
   "nbconvert_exporter": "python",
   "pygments_lexer": "ipython3",
   "version": "3.11.4"
  }
 },
 "nbformat": 4,
 "nbformat_minor": 2
}
