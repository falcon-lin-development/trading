{
 "cells": [
  {
   "cell_type": "code",
   "execution_count": 1,
   "metadata": {},
   "outputs": [
    {
     "name": "stdout",
     "output_type": "stream",
     "text": [
      "Added project root to sys.path: /Users/falconlin/Development/backtesting-playground/trading\n",
      "Changed current working directory to: /Users/falconlin/Development/backtesting-playground/trading\n",
      "Initialized project with base directory: /Users/falconlin/Development/backtesting-playground/trading\n"
     ]
    }
   ],
   "source": [
    "import nb_setup \n",
    "import importlib\n",
    "importlib.reload(nb_setup)\n",
    "nb_setup.init()"
   ]
  },
  {
   "cell_type": "code",
   "execution_count": 2,
   "metadata": {},
   "outputs": [],
   "source": [
    "import pandas as pd\n",
    "from settings import DATA_DIR\n",
    "\n",
    "_df = pd.read_csv(DATA_DIR / \"all.csv\", parse_dates=[1, 2])\n",
    "_df.set_index([\"symbol\", \"start_time\"], inplace=True)\n",
    "df = _df.drop(\n",
    "    columns=[\n",
    "        \"pct_change\",\n",
    "        \"accumulated_pct_change\",\n",
    "        \"rolling_accumulated_pct_change\",\n",
    "    ]\n",
    ")\n",
    "df = df.sort_index()\n",
    "# df.head()"
   ]
  },
  {
   "cell_type": "code",
   "execution_count": 7,
   "metadata": {},
   "outputs": [
    {
     "data": {
      "text/plain": [
       "<models.mock_trading.backtesting.BackTesting at 0x120a13490>"
      ]
     },
     "execution_count": 7,
     "metadata": {},
     "output_type": "execute_result"
    }
   ],
   "source": [
    "import models.mock_trading.backtesting as backtesting\n",
    "importlib.reload(backtesting)\n",
    "\n",
    "bt = backtesting.BackTesting(initial_cash=100, data=df, verbose=True, slippage_rate=0.0, transaction_commission_rate=0.0)\n",
    "bt"
   ]
  },
  {
   "cell_type": "code",
   "execution_count": 8,
   "metadata": {},
   "outputs": [
    {
     "name": "stdout",
     "output_type": "stream",
     "text": [
      "------- 0 0 data shape (57, 10) -------\n",
      "Running strategy on 2024-02-10 00:00:00\n",
      "| 2024-02-10 00:00:00 (57, 10)\n",
      "| 2024-02-09 23:45:00 (0, 16)\n",
      "no coins to trade\n",
      "Best Balance: 100 Worst Balance: 100 Close Balance: 100\n",
      "------- 1 0 data shape (57, 10) -------\n",
      "Running strategy on 2024-02-10 00:15:00\n",
      "| 2024-02-10 00:15:00 (57, 10)\n",
      "| 2024-02-10 00:00:00 (57, 16)\n",
      "ranks: [nan nan nan nan nan nan nan nan nan nan] [nan nan nan nan nan nan nan nan nan nan]\n",
      "no rank\n",
      "Best Balance: 100 Worst Balance: 100 Close Balance: 100\n",
      "------- 2 0 data shape (57, 10) -------\n",
      "Running strategy on 2024-02-10 00:30:00\n",
      "| 2024-02-10 00:30:00 (57, 10)\n",
      "| 2024-02-10 00:15:00 (57, 16)\n",
      "ranks: [nan nan nan nan nan nan nan nan nan nan] [nan nan nan nan nan nan nan nan nan nan]\n",
      "no rank\n",
      "Best Balance: 100 Worst Balance: 100 Close Balance: 100\n",
      "------- 3 0 data shape (57, 10) -------\n",
      "Running strategy on 2024-02-10 00:45:00\n",
      "| 2024-02-10 00:45:00 (57, 10)\n",
      "| 2024-02-10 00:30:00 (57, 16)\n",
      "long coins ['DYDX', 'PEOPLE', 'ADA', 'YGG', 'RUNE', 'TIA', 'kPEPE', 'FET', 'NFTI', 'SUI'] short coins ['APT', 'FIL', 'DOT', 'ARB', 'ORDI', 'INJ', 'OP', 'SEI', 'AI', 'STX']\n",
      "long rank [ 4.   7.5  8.   9.   9.5  9.5 11.5 12.  15.  16. ] short rank [41.  42.  44.  45.  45.  46.  47.5 50.  50.5 55. ]\n",
      "PositionType.SHORT APT  0.5483192944402782 @ 9.118774499999999 \n",
      "Current cash: 100 New cash: 104.99875: +- 5.0 - 0.00125 : total 4.998750000000001\n",
      "PositionType.SHORT FIL  0.9114760596437851 @ 5.485607599999999 \n",
      "Current cash: 104.99875 New cash: 109.9975: +- 5.0 - 0.00125 : total 4.998750000000001\n",
      "PositionType.SHORT DOT  0.6891036708649022 @ 7.255802299999999 \n",
      "Current cash: 109.9975 New cash: 114.99625: +- 5.0 - 0.00125 : total 4.998750000000001\n",
      "PositionType.SHORT ARB  2.509966701275761 @ 1.9920582999999998 \n",
      "Current cash: 114.99625 New cash: 119.995: +- 5.0 - 0.00125 : total 4.998750000000001\n",
      "PositionType.SHORT ORDI  0.0802021504827175 @ 62.34246799999999 \n",
      "Current cash: 119.995 New cash: 124.99375: +- 5.0 - 0.00125 : total 4.998750000000001\n",
      "PositionType.SHORT INJ  0.14250721435647318 @ 35.085943 \n",
      "Current cash: 124.99375 New cash: 129.9925: +- 5.0 - 0.00125 : total 4.998750000000001\n",
      "PositionType.SHORT OP  1.4341738443004082 @ 3.4863277 \n",
      "Current cash: 129.9925 New cash: 134.99125: +- 5.0 - 0.00125 : total 4.998750000000001\n",
      "PositionType.SHORT SEI  7.002352636434084 @ 0.7140457299999999 \n",
      "Current cash: 134.99125 New cash: 139.99: +- 5.0 - 0.00125 : total 4.998750000000001\n",
      "PositionType.SHORT AI  4.194823932920269 @ 1.1919451399999998 \n",
      "Current cash: 139.99 New cash: 144.98875: +- 4.999999999999999 - 0.0012499999999999998 : total 4.998750000000001\n",
      "PositionType.SHORT STX  2.773166925569531 @ 1.8029928 \n",
      "Current cash: 144.98875 New cash: 149.9875: +- 5.0 - 0.00125 : total 4.998750000000001\n",
      "PositionType.LONG DYDX  1.657868524195613 @ 3.0159206999999997 \n",
      "Current cash: 149.9875 New cash: 144.98625: +- 5.0 - 0.00125 : total -5.001249999999999\n",
      "PositionType.LONG PEOPLE  177.86580316850856 @ 0.028111080999999996 \n",
      "Current cash: 144.98625 New cash: 139.985: +- 5.0 - 0.00125 : total -5.001249999999999\n",
      "PositionType.LONG ADA  9.119929868468907 @ 0.5482498299999999 \n",
      "Current cash: 139.985 New cash: 134.98375000000001: +- 5.0 - 0.00125 : total -5.001249999999999\n",
      "PositionType.LONG YGG  10.999657690652668 @ 0.45455959999999995 \n",
      "Current cash: 134.98375000000001 New cash: 129.98250000000002: +- 5.0 - 0.00125 : total -5.001249999999999\n",
      "PositionType.LONG RUNE  0.9399715023199814 @ 5.319310199999999 \n",
      "Current cash: 129.98250000000002 New cash: 124.98125000000002: +- 5.0 - 0.00125 : total -5.001249999999999\n",
      "PositionType.LONG TIA  0.24972672404587662 @ 20.021886 \n",
      "Current cash: 124.98125000000002 New cash: 119.98000000000002: +- 5.0 - 0.00125 : total -5.001249999999999\n",
      "PositionType.LONG kPEPE  4858.718192401354 @ 0.001029078 \n",
      "Current cash: 119.98000000000002 New cash: 114.97875000000002: +- 5.0 - 0.00125 : total -5.001249999999999\n",
      "PositionType.LONG FET  8.175957595951894 @ 0.6115491599999999 \n",
      "Current cash: 114.97875000000002 New cash: 109.97750000000002: +- 5.0 - 0.00125 : total -5.001249999999999\n",
      "PositionType.LONG NFTI  0.5265373342139286 @ 9.496002799999998 \n",
      "Current cash: 109.97750000000002 New cash: 104.97625000000002: +- 5.0 - 0.00125 : total -5.001249999999999\n",
      "PositionType.LONG SUI  2.780126521333885 @ 1.7984792999999997 \n",
      "Current cash: 104.97625000000002 New cash: 99.97500000000002: +- 5.0 - 0.00125 : total -5.001249999999999\n",
      "closing positions\n",
      "PositionType.LONG APT  0.5483192944402782 @ 9.1071397 \n",
      "Current cash: 99.97500000000002 New cash: 94.98137958532698: +- 4.993620414673046 - 0.0 : total -4.993620414673046\n",
      "PositionType.LONG FIL  0.9114760596437851 @ 5.4395698999999995 \n",
      "Current cash: 94.98137958532698 New cash: 90.02334184671804: +- 4.958037738608938 - 0.0 : total -4.958037738608937\n",
      "PositionType.LONG DOT  0.6891036708649022 @ 7.2345387 \n",
      "Current cash: 90.02334184671804 New cash: 85.03799467153384: +- 4.985347175184198 - 0.0 : total -4.985347175184202\n",
      "PositionType.LONG ARB  2.509966701275761 @ 1.9853382 \n",
      "Current cash: 85.03799467153384 New cash: 80.05486189876308: +- 4.983132772770757 - 0.0 : total -4.983132772770759\n",
      "PositionType.LONG ORDI  0.0802021504827175 @ 61.767748999999995 \n",
      "Current cash: 80.05486189876308 New cash: 75.10095559848635: +- 4.953906300276723 - 0.0 : total -4.953906300276728\n",
      "PositionType.LONG INJ  0.14250721435647318 @ 35.210314999999994 \n",
      "Current cash: 75.10095559848635 New cash: 70.08323169122241: +- 5.017723907263942 - 0.0 : total -5.017723907263942\n",
      "PositionType.LONG OP  1.4341738443004082 @ 3.4397884999999997 \n",
      "Current cash: 70.08323169122241 New cash: 65.14997699459707: +- 4.933254696625334 - 0.0 : total -4.93325469662534\n",
      "PositionType.LONG SEI  7.002352636434084 @ 0.7102443599999999 \n",
      "Current cash: 65.14997699459707 New cash: 60.17659552783863: +- 4.973381466758438 - 0.0 : total -4.97338146675844\n",
      "PositionType.LONG AI  4.194823932920269 @ 1.1848338699999998 \n",
      "Current cash: 60.17659552783863 New cash: 55.20642605342809: +- 4.970169474410541 - 0.0 : total -4.97016947441054\n",
      "PositionType.LONG STX  2.773166925569531 @ 1.7962726999999998 \n",
      "Current cash: 55.20642605342809 New cash: 50.22506201248461: +- 4.98136404094348 - 0.0 : total -4.9813640409434825\n",
      "PositionType.SHORT DYDX  1.657868524195613 @ 3.0357653 \n",
      "Current cash: 50.22506201248461 New cash: 55.25796175019986: +- 5.032899737715253 - 0.0 : total 5.032899737715255\n",
      "PositionType.SHORT PEOPLE  177.86580316850856 @ 0.027793369 \n",
      "Current cash: 55.25796175019986 New cash: 60.20145165014359: +- 4.943489899943727 - 0.0 : total 4.943489899943728\n",
      "PositionType.SHORT ADA  9.119929868468907 @ 0.54422242 \n",
      "Current cash: 60.20145165014359 New cash: 65.16472195339202: +- 4.9632703032484295 - 0.0 : total 4.963270303248429\n",
      "PositionType.SHORT YGG  10.999657690652668 @ 0.45178058 \n",
      "Current cash: 65.16472195339202 New cash: 70.13415368467653: +- 4.969431731284523 - 0.0 : total 4.969431731284516\n",
      "PositionType.SHORT RUNE  0.9399715023199814 @ 5.2982574 \n",
      "Current cash: 70.13415368467653 New cash: 75.11436465263249: +- 4.9802109679559585 - 0.0 : total 4.980210967955955\n",
      "PositionType.SHORT TIA  0.24972672404587662 @ 19.901117 \n",
      "Current cash: 75.11436465263249 New cash: 80.0842054058962: +- 4.9698407532637034 - 0.0 : total 4.9698407532637106\n",
      "PositionType.SHORT kPEPE  4858.718192401354 @ 0.001019931 \n",
      "Current cash: 80.0842054058962 New cash: 85.03976271059031: +- 4.955557304694105 - 0.0 : total 4.955557304694111\n",
      "PositionType.SHORT FET  8.175957595951894 @ 0.60651498 \n",
      "Current cash: 85.03976271059031 New cash: 89.99860346837993: +- 4.958840757789612 - 0.0 : total 4.958840757789616\n",
      "PositionType.SHORT NFTI  0.5265373342139286 @ 9.439197199999999 \n",
      "Current cash: 89.99860346837993 New cash: 94.9686931991875: +- 4.970089730807578 - 0.0 : total 4.970089730807572\n",
      "PositionType.SHORT SUI  2.780126521333885 @ 1.788618 \n",
      "Current cash: 94.9686931991875 New cash: 99.94127753752267: +- 4.972584338335171 - 0.0 : total 4.972584338335167\n",
      "Best Balance: 99.94127753752267 Worst Balance: 99.94127753752267 Close Balance: 99.94127753752267\n"
     ]
    }
   ],
   "source": [
    "bt.run_strategy(trading_interval=1, loop=4)"
   ]
  },
  {
   "cell_type": "code",
   "execution_count": null,
   "metadata": {},
   "outputs": [],
   "source": []
  },
  {
   "cell_type": "code",
   "execution_count": null,
   "metadata": {},
   "outputs": [],
   "source": []
  },
  {
   "cell_type": "code",
   "execution_count": null,
   "metadata": {},
   "outputs": [],
   "source": []
  },
  {
   "cell_type": "code",
   "execution_count": null,
   "metadata": {},
   "outputs": [],
   "source": []
  }
 ],
 "metadata": {
  "kernelspec": {
   "display_name": "env",
   "language": "python",
   "name": "python3"
  },
  "language_info": {
   "codemirror_mode": {
    "name": "ipython",
    "version": 3
   },
   "file_extension": ".py",
   "mimetype": "text/x-python",
   "name": "python",
   "nbconvert_exporter": "python",
   "pygments_lexer": "ipython3",
   "version": "3.11.4"
  }
 },
 "nbformat": 4,
 "nbformat_minor": 2
}
