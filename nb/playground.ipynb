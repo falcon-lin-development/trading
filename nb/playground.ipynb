{
 "cells": [
  {
   "cell_type": "code",
   "execution_count": 1,
   "metadata": {},
   "outputs": [
    {
     "name": "stdout",
     "output_type": "stream",
     "text": [
      "Added project root to sys.path: /Users/falcon/Developments/act/backtesting-playground/trading\n",
      "Changed current working directory to: /Users/falcon/Developments/act/backtesting-playground/trading\n",
      "Initialized project with base directory: /Users/falcon/Developments/act/backtesting-playground/trading\n"
     ]
    }
   ],
   "source": [
    "import nb_setup\n",
    "import importlib\n",
    "\n",
    "importlib.reload(nb_setup)\n",
    "nb_setup.init()"
   ]
  },
  {
   "cell_type": "code",
   "execution_count": 2,
   "metadata": {},
   "outputs": [],
   "source": [
    "import csv\n",
    "import pandas as pd\n",
    "from datetime import datetime, timedelta\n",
    "\n",
    "# Sample data for BTC OHLCV\n",
    "data = [\n",
    "    {\"Date\": \"2024-04-17 00:00:00\", \"Open\": 40000, \"High\": 40500, \"Low\": 39800, \"Close\": 40200, \"Volume\": 120},\n",
    "    {\"Date\": \"2024-04-17 01:00:00\", \"Open\": 40200, \"High\": 40600, \"Low\": 40100, \"Close\": 40500, \"Volume\": 150},\n",
    "    {\"Date\": \"2024-04-17 02:00:00\", \"Open\": 40500, \"High\": 41000, \"Low\": 40300, \"Close\": 40700, \"Volume\": 180},\n",
    "    {\"Date\": \"2024-04-17 03:00:00\", \"Open\": 40700, \"High\": 41200, \"Low\": 40600, \"Close\": 41000, \"Volume\": 200},\n",
    "    {\"Date\": \"2024-04-17 04:00:00\", \"Open\": 41000, \"High\": 41500, \"Low\": 40900, \"Close\": 41300, \"Volume\": 220},\n",
    "]\n",
    "\n",
    "df = pd.DataFrame(data)\n"
   ]
  },
  {
   "cell_type": "code",
   "execution_count": 3,
   "metadata": {},
   "outputs": [
    {
     "data": {
      "text/html": [
       "<div>\n",
       "<style scoped>\n",
       "    .dataframe tbody tr th:only-of-type {\n",
       "        vertical-align: middle;\n",
       "    }\n",
       "\n",
       "    .dataframe tbody tr th {\n",
       "        vertical-align: top;\n",
       "    }\n",
       "\n",
       "    .dataframe thead th {\n",
       "        text-align: right;\n",
       "    }\n",
       "</style>\n",
       "<table border=\"1\" class=\"dataframe\">\n",
       "  <thead>\n",
       "    <tr style=\"text-align: right;\">\n",
       "      <th></th>\n",
       "      <th>Date</th>\n",
       "      <th>Open</th>\n",
       "      <th>High</th>\n",
       "      <th>Low</th>\n",
       "      <th>Close</th>\n",
       "      <th>Volume</th>\n",
       "    </tr>\n",
       "  </thead>\n",
       "  <tbody>\n",
       "    <tr>\n",
       "      <th>0</th>\n",
       "      <td>2024-04-17 00:00:00</td>\n",
       "      <td>40000</td>\n",
       "      <td>40500</td>\n",
       "      <td>39800</td>\n",
       "      <td>40200</td>\n",
       "      <td>120</td>\n",
       "    </tr>\n",
       "    <tr>\n",
       "      <th>1</th>\n",
       "      <td>2024-04-17 01:00:00</td>\n",
       "      <td>40200</td>\n",
       "      <td>40600</td>\n",
       "      <td>40100</td>\n",
       "      <td>40500</td>\n",
       "      <td>150</td>\n",
       "    </tr>\n",
       "    <tr>\n",
       "      <th>2</th>\n",
       "      <td>2024-04-17 02:00:00</td>\n",
       "      <td>40500</td>\n",
       "      <td>41000</td>\n",
       "      <td>40300</td>\n",
       "      <td>40700</td>\n",
       "      <td>180</td>\n",
       "    </tr>\n",
       "    <tr>\n",
       "      <th>3</th>\n",
       "      <td>2024-04-17 03:00:00</td>\n",
       "      <td>40700</td>\n",
       "      <td>41200</td>\n",
       "      <td>40600</td>\n",
       "      <td>41000</td>\n",
       "      <td>200</td>\n",
       "    </tr>\n",
       "    <tr>\n",
       "      <th>4</th>\n",
       "      <td>2024-04-17 04:00:00</td>\n",
       "      <td>41000</td>\n",
       "      <td>41500</td>\n",
       "      <td>40900</td>\n",
       "      <td>41300</td>\n",
       "      <td>220</td>\n",
       "    </tr>\n",
       "  </tbody>\n",
       "</table>\n",
       "</div>"
      ],
      "text/plain": [
       "                  Date   Open   High    Low  Close  Volume\n",
       "0  2024-04-17 00:00:00  40000  40500  39800  40200     120\n",
       "1  2024-04-17 01:00:00  40200  40600  40100  40500     150\n",
       "2  2024-04-17 02:00:00  40500  41000  40300  40700     180\n",
       "3  2024-04-17 03:00:00  40700  41200  40600  41000     200\n",
       "4  2024-04-17 04:00:00  41000  41500  40900  41300     220"
      ]
     },
     "execution_count": 3,
     "metadata": {},
     "output_type": "execute_result"
    }
   ],
   "source": [
    "df"
   ]
  },
  {
   "cell_type": "code",
   "execution_count": 5,
   "metadata": {},
   "outputs": [
    {
     "name": "stdout",
     "output_type": "stream",
     "text": [
      "0 2024-04-17 00:00:00 40000 40500 39800 40200 120\n",
      "1 2024-04-17 01:00:00 40200 40600 40100 40500 150\n",
      "2 2024-04-17 02:00:00 40500 41000 40300 40700 180\n",
      "3 2024-04-17 03:00:00 40700 41200 40600 41000 200\n",
      "4 2024-04-17 04:00:00 41000 41500 40900 41300 220\n"
     ]
    }
   ],
   "source": [
    "for i, row in df.iterrows():\n",
    "    print(i, row[\"Date\"], row[\"Open\"], row[\"High\"], row[\"Low\"], row[\"Close\"], row[\"Volume\"])"
   ]
  },
  {
   "cell_type": "code",
   "execution_count": 8,
   "metadata": {},
   "outputs": [
    {
     "data": {
      "text/html": [
       "<div>\n",
       "<style scoped>\n",
       "    .dataframe tbody tr th:only-of-type {\n",
       "        vertical-align: middle;\n",
       "    }\n",
       "\n",
       "    .dataframe tbody tr th {\n",
       "        vertical-align: top;\n",
       "    }\n",
       "\n",
       "    .dataframe thead th {\n",
       "        text-align: right;\n",
       "    }\n",
       "</style>\n",
       "<table border=\"1\" class=\"dataframe\">\n",
       "  <thead>\n",
       "    <tr style=\"text-align: right;\">\n",
       "      <th></th>\n",
       "      <th>Date</th>\n",
       "      <th>Open</th>\n",
       "      <th>High</th>\n",
       "      <th>Low</th>\n",
       "      <th>Close</th>\n",
       "      <th>Volume</th>\n",
       "    </tr>\n",
       "  </thead>\n",
       "  <tbody>\n",
       "    <tr>\n",
       "      <th>0</th>\n",
       "      <td>2024-04-17 00:00:00</td>\n",
       "      <td>40000</td>\n",
       "      <td>40500</td>\n",
       "      <td>39800</td>\n",
       "      <td>40200</td>\n",
       "      <td>120</td>\n",
       "    </tr>\n",
       "    <tr>\n",
       "      <th>1</th>\n",
       "      <td>2024-04-17 01:00:00</td>\n",
       "      <td>40200</td>\n",
       "      <td>40600</td>\n",
       "      <td>40100</td>\n",
       "      <td>40500</td>\n",
       "      <td>150</td>\n",
       "    </tr>\n",
       "    <tr>\n",
       "      <th>2</th>\n",
       "      <td>2024-04-17 02:00:00</td>\n",
       "      <td>40500</td>\n",
       "      <td>41000</td>\n",
       "      <td>40300</td>\n",
       "      <td>40700</td>\n",
       "      <td>180</td>\n",
       "    </tr>\n",
       "  </tbody>\n",
       "</table>\n",
       "</div>"
      ],
      "text/plain": [
       "                  Date   Open   High    Low  Close  Volume\n",
       "0  2024-04-17 00:00:00  40000  40500  39800  40200     120\n",
       "1  2024-04-17 01:00:00  40200  40600  40100  40500     150\n",
       "2  2024-04-17 02:00:00  40500  41000  40300  40700     180"
      ]
     },
     "execution_count": 8,
     "metadata": {},
     "output_type": "execute_result"
    }
   ],
   "source": [
    "df.iloc[0:3, :]"
   ]
  },
  {
   "cell_type": "code",
   "execution_count": null,
   "metadata": {},
   "outputs": [],
   "source": []
  }
 ],
 "metadata": {
  "kernelspec": {
   "display_name": "env",
   "language": "python",
   "name": "python3"
  },
  "language_info": {
   "codemirror_mode": {
    "name": "ipython",
    "version": 3
   },
   "file_extension": ".py",
   "mimetype": "text/x-python",
   "name": "python",
   "nbconvert_exporter": "python",
   "pygments_lexer": "ipython3",
   "version": "3.11.5"
  }
 },
 "nbformat": 4,
 "nbformat_minor": 2
}
