{
 "cells": [
  {
   "cell_type": "code",
   "execution_count": 1,
   "metadata": {},
   "outputs": [
    {
     "name": "stdout",
     "output_type": "stream",
     "text": [
      "Added project root to sys.path: /Users/falcon/Developments/act/backtesting-playground/trading\n",
      "Changed current working directory to: /Users/falcon/Developments/act/backtesting-playground/trading\n",
      "Initialized project with base directory: /Users/falcon/Developments/act/backtesting-playground/trading\n"
     ]
    }
   ],
   "source": [
    "import nb_setup \n",
    "import importlib\n",
    "importlib.reload(nb_setup)\n",
    "nb_setup.init()"
   ]
  },
  {
   "cell_type": "code",
   "execution_count": 2,
   "metadata": {},
   "outputs": [
    {
     "data": {
      "text/html": [
       "<div>\n",
       "<style scoped>\n",
       "    .dataframe tbody tr th:only-of-type {\n",
       "        vertical-align: middle;\n",
       "    }\n",
       "\n",
       "    .dataframe tbody tr th {\n",
       "        vertical-align: top;\n",
       "    }\n",
       "\n",
       "    .dataframe thead th {\n",
       "        text-align: right;\n",
       "    }\n",
       "</style>\n",
       "<table border=\"1\" class=\"dataframe\">\n",
       "  <thead>\n",
       "    <tr style=\"text-align: right;\">\n",
       "      <th></th>\n",
       "      <th>maxLeverage</th>\n",
       "      <th>name</th>\n",
       "      <th>onlyIsolated</th>\n",
       "      <th>szDecimals</th>\n",
       "      <th>dayNtlVlm</th>\n",
       "      <th>funding</th>\n",
       "      <th>impactPxs</th>\n",
       "      <th>markPx</th>\n",
       "      <th>midPx</th>\n",
       "      <th>openInterest</th>\n",
       "      <th>oraclePx</th>\n",
       "      <th>premium</th>\n",
       "      <th>prevDayPx</th>\n",
       "    </tr>\n",
       "  </thead>\n",
       "  <tbody>\n",
       "    <tr>\n",
       "      <th>0</th>\n",
       "      <td>50</td>\n",
       "      <td>BTC</td>\n",
       "      <td>False</td>\n",
       "      <td>5</td>\n",
       "      <td>3.986197e+08</td>\n",
       "      <td>0.000013</td>\n",
       "      <td>[66056.4, 66064.0]</td>\n",
       "      <td>66063.00000</td>\n",
       "      <td>66063.50000</td>\n",
       "      <td>1.703480e+03</td>\n",
       "      <td>66082.00000</td>\n",
       "      <td>-0.000272</td>\n",
       "      <td>65105.00000</td>\n",
       "    </tr>\n",
       "    <tr>\n",
       "      <th>1</th>\n",
       "      <td>50</td>\n",
       "      <td>ETH</td>\n",
       "      <td>False</td>\n",
       "      <td>4</td>\n",
       "      <td>3.622029e+08</td>\n",
       "      <td>0.000013</td>\n",
       "      <td>[3183.71, 3184.13]</td>\n",
       "      <td>3183.80000</td>\n",
       "      <td>3183.85000</td>\n",
       "      <td>3.174533e+04</td>\n",
       "      <td>3184.80000</td>\n",
       "      <td>-0.000210</td>\n",
       "      <td>3160.30000</td>\n",
       "    </tr>\n",
       "    <tr>\n",
       "      <th>2</th>\n",
       "      <td>20</td>\n",
       "      <td>ATOM</td>\n",
       "      <td>False</td>\n",
       "      <td>2</td>\n",
       "      <td>1.982419e+06</td>\n",
       "      <td>-0.000018</td>\n",
       "      <td>[8.8203, 8.8266]</td>\n",
       "      <td>8.82240</td>\n",
       "      <td>8.82160</td>\n",
       "      <td>9.740096e+04</td>\n",
       "      <td>8.83110</td>\n",
       "      <td>-0.000510</td>\n",
       "      <td>8.69400</td>\n",
       "    </tr>\n",
       "    <tr>\n",
       "      <th>3</th>\n",
       "      <td>20</td>\n",
       "      <td>MATIC</td>\n",
       "      <td>False</td>\n",
       "      <td>1</td>\n",
       "      <td>7.079440e+06</td>\n",
       "      <td>0.000013</td>\n",
       "      <td>[0.7375, 0.73773]</td>\n",
       "      <td>0.73747</td>\n",
       "      <td>0.73762</td>\n",
       "      <td>2.684614e+06</td>\n",
       "      <td>0.73765</td>\n",
       "      <td>0.000000</td>\n",
       "      <td>0.71934</td>\n",
       "    </tr>\n",
       "    <tr>\n",
       "      <th>4</th>\n",
       "      <td>20</td>\n",
       "      <td>DYDX</td>\n",
       "      <td>False</td>\n",
       "      <td>1</td>\n",
       "      <td>1.551456e+06</td>\n",
       "      <td>0.000013</td>\n",
       "      <td>[2.36735, 2.36905]</td>\n",
       "      <td>2.36760</td>\n",
       "      <td>2.36835</td>\n",
       "      <td>6.128200e+05</td>\n",
       "      <td>2.36800</td>\n",
       "      <td>0.000000</td>\n",
       "      <td>2.33640</td>\n",
       "    </tr>\n",
       "  </tbody>\n",
       "</table>\n",
       "</div>"
      ],
      "text/plain": [
       "   maxLeverage   name  onlyIsolated  szDecimals     dayNtlVlm   funding  \\\n",
       "0           50    BTC         False           5  3.986197e+08  0.000013   \n",
       "1           50    ETH         False           4  3.622029e+08  0.000013   \n",
       "2           20   ATOM         False           2  1.982419e+06 -0.000018   \n",
       "3           20  MATIC         False           1  7.079440e+06  0.000013   \n",
       "4           20   DYDX         False           1  1.551456e+06  0.000013   \n",
       "\n",
       "            impactPxs       markPx        midPx  openInterest     oraclePx  \\\n",
       "0  [66056.4, 66064.0]  66063.00000  66063.50000  1.703480e+03  66082.00000   \n",
       "1  [3183.71, 3184.13]   3183.80000   3183.85000  3.174533e+04   3184.80000   \n",
       "2    [8.8203, 8.8266]      8.82240      8.82160  9.740096e+04      8.83110   \n",
       "3   [0.7375, 0.73773]      0.73747      0.73762  2.684614e+06      0.73765   \n",
       "4  [2.36735, 2.36905]      2.36760      2.36835  6.128200e+05      2.36800   \n",
       "\n",
       "    premium    prevDayPx  \n",
       "0 -0.000272  65105.00000  \n",
       "1 -0.000210   3160.30000  \n",
       "2 -0.000510      8.69400  \n",
       "3  0.000000      0.71934  \n",
       "4  0.000000      2.33640  "
      ]
     },
     "execution_count": 2,
     "metadata": {},
     "output_type": "execute_result"
    }
   ],
   "source": [
    "import models.market as market\n",
    "import importlib\n",
    "importlib.reload(market)\n",
    "\n",
    "market = market.Market.from_json_file()\n",
    "df = market.to_df()\n",
    "df.head()"
   ]
  },
  {
   "cell_type": "code",
   "execution_count": 3,
   "metadata": {},
   "outputs": [
    {
     "name": "stdout",
     "output_type": "stream",
     "text": [
      "top 1st coin: BTC\n"
     ]
    }
   ],
   "source": [
    "# get top n coins\n",
    "\n",
    "def get_top_n_coins(n=60):\n",
    "    top_n_coins_df = df.sort_values(by='dayNtlVlm', ascending=False).head(n)\n",
    "    top_n_coins_df = top_n_coins_df.reset_index(drop=True)\n",
    "    top_n_coins_df.head()\n",
    "\n",
    "    # get first coin name\n",
    "    top_n_coins = top_n_coins_df.get('name')\n",
    "    first_coin = top_n_coins[0]\n",
    "    print(\"top 1st coin:\", first_coin)\n",
    "    return top_n_coins\n",
    "\n",
    "top_n_coins = get_top_n_coins(2)"
   ]
  },
  {
   "cell_type": "code",
   "execution_count": 4,
   "metadata": {},
   "outputs": [
    {
     "name": "stdout",
     "output_type": "stream",
     "text": [
      "CPU times: user 3 µs, sys: 1 µs, total: 4 µs\n",
      "Wall time: 8.11 µs\n",
      "BTC\n",
      "ETH\n"
     ]
    }
   ],
   "source": [
    "%time\n",
    "import time\n",
    "from hyperliquid.info import Info\n",
    "from hyperliquid.utils import constants as hl_constants\n",
    "import utils.now_timestamp as now_timestamp \n",
    "import models.candles as candles\n",
    "import importlib\n",
    "importlib.reload(candles)\n",
    "importlib.reload(now_timestamp)\n",
    "info = Info(hl_constants.MAINNET_API_URL, skip_ws=True)\n",
    "\n",
    "def fetch_coins_by_names(names):\n",
    "    start = now_timestamp.get_timestamp_from_today_midnight_utc(days=-30)\n",
    "    end = now_timestamp.get_timestamp_from_today_midnight_utc(days=0)\n",
    "    error_coins = []\n",
    "    for coin in names:\n",
    "        try:\n",
    "            time.sleep(0.2)\n",
    "            print(coin)\n",
    "            result = info.candles_snapshot(coin, '15m', start, end)\n",
    "            _candles = candles.CandleList.from_response(result)\n",
    "            _candles.to_csv()\n",
    "        except Exception as e:\n",
    "            print(f\"coin {coin}: not fetched\")\n",
    "            print(e)\n",
    "            error_coins.append(coin)\n",
    "            continue\n",
    "\n",
    "fetch_coins_by_names(top_n_coins)"
   ]
  },
  {
   "cell_type": "code",
   "execution_count": null,
   "metadata": {},
   "outputs": [],
   "source": []
  }
 ],
 "metadata": {
  "kernelspec": {
   "display_name": "env",
   "language": "python",
   "name": "python3"
  },
  "language_info": {
   "codemirror_mode": {
    "name": "ipython",
    "version": 3
   },
   "file_extension": ".py",
   "mimetype": "text/x-python",
   "name": "python",
   "nbconvert_exporter": "python",
   "pygments_lexer": "ipython3",
   "version": "3.11.5"
  }
 },
 "nbformat": 4,
 "nbformat_minor": 2
}
