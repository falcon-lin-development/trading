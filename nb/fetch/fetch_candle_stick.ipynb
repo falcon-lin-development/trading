{
 "cells": [
  {
   "cell_type": "code",
   "execution_count": 1,
   "metadata": {},
   "outputs": [
    {
     "name": "stdout",
     "output_type": "stream",
     "text": [
      "Added project root to sys.path: /Users/falcon/Developments/act/backtesting-playground/trading\n",
      "Changed current working directory to: /Users/falcon/Developments/act/backtesting-playground/trading\n",
      "Initialized project with base directory: /Users/falcon/Developments/act/backtesting-playground/trading\n"
     ]
    }
   ],
   "source": [
    "import nb_setup \n",
    "import importlib\n",
    "importlib.reload(nb_setup)\n",
    "nb_setup.init()"
   ]
  },
  {
   "cell_type": "code",
   "execution_count": 7,
   "metadata": {},
   "outputs": [
    {
     "data": {
      "text/html": [
       "<div>\n",
       "<style scoped>\n",
       "    .dataframe tbody tr th:only-of-type {\n",
       "        vertical-align: middle;\n",
       "    }\n",
       "\n",
       "    .dataframe tbody tr th {\n",
       "        vertical-align: top;\n",
       "    }\n",
       "\n",
       "    .dataframe thead th {\n",
       "        text-align: right;\n",
       "    }\n",
       "</style>\n",
       "<table border=\"1\" class=\"dataframe\">\n",
       "  <thead>\n",
       "    <tr style=\"text-align: right;\">\n",
       "      <th></th>\n",
       "      <th>maxLeverage</th>\n",
       "      <th>name</th>\n",
       "      <th>onlyIsolated</th>\n",
       "      <th>szDecimals</th>\n",
       "      <th>dayNtlVlm</th>\n",
       "      <th>funding</th>\n",
       "      <th>impactPxs</th>\n",
       "      <th>markPx</th>\n",
       "      <th>midPx</th>\n",
       "      <th>openInterest</th>\n",
       "      <th>oraclePx</th>\n",
       "      <th>premium</th>\n",
       "      <th>prevDayPx</th>\n",
       "    </tr>\n",
       "  </thead>\n",
       "  <tbody>\n",
       "    <tr>\n",
       "      <th>0</th>\n",
       "      <td>50</td>\n",
       "      <td>BTC</td>\n",
       "      <td>False</td>\n",
       "      <td>5</td>\n",
       "      <td>6.708418e+08</td>\n",
       "      <td>-0.000003</td>\n",
       "      <td>[61093.0, 61098.2]</td>\n",
       "      <td>61097.00000</td>\n",
       "      <td>61093.50000</td>\n",
       "      <td>1.550142e+03</td>\n",
       "      <td>61132.00000</td>\n",
       "      <td>-0.000553</td>\n",
       "      <td>63896.0000</td>\n",
       "    </tr>\n",
       "    <tr>\n",
       "      <th>1</th>\n",
       "      <td>50</td>\n",
       "      <td>ETH</td>\n",
       "      <td>False</td>\n",
       "      <td>4</td>\n",
       "      <td>4.781993e+08</td>\n",
       "      <td>-0.000005</td>\n",
       "      <td>[2976.8, 2977.16]</td>\n",
       "      <td>2977.20000</td>\n",
       "      <td>2976.85000</td>\n",
       "      <td>3.535299e+04</td>\n",
       "      <td>2979.00000</td>\n",
       "      <td>-0.000618</td>\n",
       "      <td>3091.4000</td>\n",
       "    </tr>\n",
       "    <tr>\n",
       "      <th>2</th>\n",
       "      <td>20</td>\n",
       "      <td>ATOM</td>\n",
       "      <td>False</td>\n",
       "      <td>2</td>\n",
       "      <td>3.885378e+06</td>\n",
       "      <td>0.000007</td>\n",
       "      <td>[8.0762, 8.0772]</td>\n",
       "      <td>8.07670</td>\n",
       "      <td>8.07710</td>\n",
       "      <td>9.371892e+04</td>\n",
       "      <td>8.08080</td>\n",
       "      <td>-0.000445</td>\n",
       "      <td>8.0916</td>\n",
       "    </tr>\n",
       "    <tr>\n",
       "      <th>3</th>\n",
       "      <td>20</td>\n",
       "      <td>MATIC</td>\n",
       "      <td>False</td>\n",
       "      <td>1</td>\n",
       "      <td>9.087017e+06</td>\n",
       "      <td>0.000013</td>\n",
       "      <td>[0.66823, 0.66851]</td>\n",
       "      <td>0.66828</td>\n",
       "      <td>0.66834</td>\n",
       "      <td>2.215322e+06</td>\n",
       "      <td>0.66845</td>\n",
       "      <td>0.000000</td>\n",
       "      <td>0.6991</td>\n",
       "    </tr>\n",
       "    <tr>\n",
       "      <th>4</th>\n",
       "      <td>20</td>\n",
       "      <td>DYDX</td>\n",
       "      <td>False</td>\n",
       "      <td>1</td>\n",
       "      <td>2.517911e+06</td>\n",
       "      <td>0.000013</td>\n",
       "      <td>[2.11922, 2.12032]</td>\n",
       "      <td>2.11980</td>\n",
       "      <td>2.11975</td>\n",
       "      <td>7.949052e+05</td>\n",
       "      <td>2.12000</td>\n",
       "      <td>0.000000</td>\n",
       "      <td>2.1092</td>\n",
       "    </tr>\n",
       "  </tbody>\n",
       "</table>\n",
       "</div>"
      ],
      "text/plain": [
       "   maxLeverage   name  onlyIsolated  szDecimals     dayNtlVlm   funding  \\\n",
       "0           50    BTC         False           5  6.708418e+08 -0.000003   \n",
       "1           50    ETH         False           4  4.781993e+08 -0.000005   \n",
       "2           20   ATOM         False           2  3.885378e+06  0.000007   \n",
       "3           20  MATIC         False           1  9.087017e+06  0.000013   \n",
       "4           20   DYDX         False           1  2.517911e+06  0.000013   \n",
       "\n",
       "            impactPxs       markPx        midPx  openInterest     oraclePx  \\\n",
       "0  [61093.0, 61098.2]  61097.00000  61093.50000  1.550142e+03  61132.00000   \n",
       "1   [2976.8, 2977.16]   2977.20000   2976.85000  3.535299e+04   2979.00000   \n",
       "2    [8.0762, 8.0772]      8.07670      8.07710  9.371892e+04      8.08080   \n",
       "3  [0.66823, 0.66851]      0.66828      0.66834  2.215322e+06      0.66845   \n",
       "4  [2.11922, 2.12032]      2.11980      2.11975  7.949052e+05      2.12000   \n",
       "\n",
       "    premium   prevDayPx  \n",
       "0 -0.000553  63896.0000  \n",
       "1 -0.000618   3091.4000  \n",
       "2 -0.000445      8.0916  \n",
       "3  0.000000      0.6991  \n",
       "4  0.000000      2.1092  "
      ]
     },
     "execution_count": 7,
     "metadata": {},
     "output_type": "execute_result"
    }
   ],
   "source": [
    "import models.market as market\n",
    "import importlib\n",
    "importlib.reload(market)\n",
    "\n",
    "market = market.Market.from_json_file()\n",
    "df = market.to_df()\n",
    "df.head()"
   ]
  },
  {
   "cell_type": "code",
   "execution_count": 8,
   "metadata": {},
   "outputs": [
    {
     "name": "stdout",
     "output_type": "stream",
     "text": [
      "top 1st coin: BTC\n"
     ]
    }
   ],
   "source": [
    "# get top n coins\n",
    "\n",
    "def get_top_n_coins(n=60):\n",
    "    top_n_coins_df = df.sort_values(by='dayNtlVlm', ascending=False).head(n)\n",
    "    top_n_coins_df = top_n_coins_df.reset_index(drop=True)\n",
    "    top_n_coins_df.head()\n",
    "\n",
    "    # get first coin name\n",
    "    top_n_coins = top_n_coins_df.get('name')\n",
    "    first_coin = top_n_coins[0]\n",
    "    print(\"top 1st coin:\", first_coin)\n",
    "    return top_n_coins\n",
    "\n",
    "top_n_coins = get_top_n_coins(5)"
   ]
  },
  {
   "cell_type": "code",
   "execution_count": 9,
   "metadata": {},
   "outputs": [
    {
     "name": "stdout",
     "output_type": "stream",
     "text": [
      "CPU times: user 4 µs, sys: 1 µs, total: 5 µs\n",
      "Wall time: 7.87 µs\n",
      "BTC\n",
      "ETH\n",
      "SOL\n",
      "TIA\n",
      "SUI\n"
     ]
    }
   ],
   "source": [
    "%time\n",
    "import time\n",
    "from hyperliquid.info import Info\n",
    "from hyperliquid.utils import constants as hl_constants\n",
    "import utils.now_timestamp as now_timestamp \n",
    "import models.candles as candles\n",
    "import importlib\n",
    "importlib.reload(candles)\n",
    "importlib.reload(now_timestamp)\n",
    "info = Info(hl_constants.MAINNET_API_URL, skip_ws=True)\n",
    "\n",
    "def fetch_coins_by_names(names):\n",
    "    start = now_timestamp.get_timestamp_from_today_midnight_utc(days=-30)\n",
    "    end = now_timestamp.get_timestamp_from_today_midnight_utc(days=0)\n",
    "    error_coins = []\n",
    "    for coin in names:\n",
    "        try:\n",
    "            time.sleep(0.2)\n",
    "            print(coin)\n",
    "            result = info.candles_snapshot(coin, '15m', start, end)\n",
    "            _candles = candles.CandleList.from_response(result)\n",
    "            _candles.to_csv()\n",
    "        except Exception as e:\n",
    "            print(f\"coin {coin}: not fetched\")\n",
    "            print(e)\n",
    "            error_coins.append(coin)\n",
    "            continue\n",
    "\n",
    "fetch_coins_by_names(top_n_coins)"
   ]
  },
  {
   "cell_type": "code",
   "execution_count": null,
   "metadata": {},
   "outputs": [],
   "source": []
  }
 ],
 "metadata": {
  "kernelspec": {
   "display_name": "env",
   "language": "python",
   "name": "python3"
  },
  "language_info": {
   "codemirror_mode": {
    "name": "ipython",
    "version": 3
   },
   "file_extension": ".py",
   "mimetype": "text/x-python",
   "name": "python",
   "nbconvert_exporter": "python",
   "pygments_lexer": "ipython3",
   "version": "3.11.5"
  }
 },
 "nbformat": 4,
 "nbformat_minor": 2
}
