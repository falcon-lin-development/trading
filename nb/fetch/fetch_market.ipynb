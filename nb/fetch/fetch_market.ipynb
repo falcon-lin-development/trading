{
 "cells": [
  {
   "cell_type": "code",
   "execution_count": 1,
   "metadata": {},
   "outputs": [
    {
     "name": "stdout",
     "output_type": "stream",
     "text": [
      "Added project root to sys.path: /Users/falcon/Developments/trading\n",
      "Changed current working directory to: /Users/falcon/Developments/trading\n",
      "Initialized project with base directory: /Users/falcon/Developments/trading\n"
     ]
    }
   ],
   "source": [
    "import nb_setup \n",
    "import importlib\n",
    "importlib.reload(nb_setup)\n",
    "nb_setup.init()"
   ]
  },
  {
   "cell_type": "code",
   "execution_count": 2,
   "metadata": {},
   "outputs": [],
   "source": [
    "from hyperliquid.info import Info\n",
    "from hyperliquid.utils import constants as hl_constants\n",
    "\n",
    "info = Info(hl_constants.MAINNET_API_URL, skip_ws=True)"
   ]
  },
  {
   "cell_type": "code",
   "execution_count": 3,
   "metadata": {},
   "outputs": [],
   "source": [
    "data = info.post(\"/info\", {\"type\": \"metaAndAssetCtxs\"})"
   ]
  },
  {
   "cell_type": "code",
   "execution_count": 4,
   "metadata": {},
   "outputs": [
    {
     "data": {
      "text/plain": [
       "'Coin names exported to /Users/falcon/Developments/trading/constants/coin_names.py'"
      ]
     },
     "execution_count": 4,
     "metadata": {},
     "output_type": "execute_result"
    }
   ],
   "source": [
    "import models.market as market\n",
    "import importlib\n",
    "\n",
    "importlib.reload(market)\n",
    "market = market.Market.from_response(data)\n",
    "\n",
    "market.export_coin_names()"
   ]
  },
  {
   "cell_type": "markdown",
   "metadata": {},
   "source": []
  },
  {
   "cell_type": "code",
   "execution_count": 5,
   "metadata": {},
   "outputs": [
    {
     "data": {
      "text/plain": [
       "'Market object written to market.json'"
      ]
     },
     "execution_count": 5,
     "metadata": {},
     "output_type": "execute_result"
    }
   ],
   "source": [
    "market.to_json_file(\"market.json\")"
   ]
  },
  {
   "cell_type": "code",
   "execution_count": 7,
   "metadata": {},
   "outputs": [
    {
     "data": {
      "text/plain": [
       "{'maxLeverage': 20,\n",
       " 'name': 'SOL',\n",
       " 'onlyIsolated': False,\n",
       " 'szDecimals': 2,\n",
       " 'marketData': {'dayNtlVlm': '80268107.51119997',\n",
       "  'funding': '0.0000971',\n",
       "  'impactPxs': ['140.32', '140.33'],\n",
       "  'markPx': '140.33',\n",
       "  'midPx': '140.325',\n",
       "  'openInterest': '166859.57',\n",
       "  'oraclePx': '140.13',\n",
       "  'premium': '0.00135588',\n",
       "  'prevDayPx': '147.96'}}"
      ]
     },
     "execution_count": 7,
     "metadata": {},
     "output_type": "execute_result"
    }
   ],
   "source": [
    "from constants.coin_names import CoinNames\n",
    "market.coins[CoinNames.SOL.name].to_dict()"
   ]
  },
  {
   "cell_type": "code",
   "execution_count": null,
   "metadata": {},
   "outputs": [],
   "source": []
  }
 ],
 "metadata": {
  "kernelspec": {
   "display_name": "env",
   "language": "python",
   "name": "python3"
  },
  "language_info": {
   "codemirror_mode": {
    "name": "ipython",
    "version": 3
   },
   "file_extension": ".py",
   "mimetype": "text/x-python",
   "name": "python",
   "nbconvert_exporter": "python",
   "pygments_lexer": "ipython3",
   "version": "3.11.5"
  }
 },
 "nbformat": 4,
 "nbformat_minor": 2
}
