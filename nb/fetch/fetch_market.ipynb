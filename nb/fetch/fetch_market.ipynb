{
 "cells": [
  {
   "cell_type": "code",
   "execution_count": 1,
   "metadata": {},
   "outputs": [
    {
     "name": "stdout",
     "output_type": "stream",
     "text": [
      "Added project root to sys.path: /Users/falcon/Developments/act/backtesting-playground/trading\n",
      "Changed current working directory to: /Users/falcon/Developments/act/backtesting-playground/trading\n",
      "Initialized project with base directory: /Users/falcon/Developments/act/backtesting-playground/trading\n"
     ]
    }
   ],
   "source": [
    "import nb_setup \n",
    "import importlib\n",
    "importlib.reload(nb_setup)\n",
    "nb_setup.init()"
   ]
  },
  {
   "cell_type": "code",
   "execution_count": 2,
   "metadata": {},
   "outputs": [],
   "source": [
    "# setup hyperliquid\n",
    "from hyperliquid.info import Info\n",
    "from hyperliquid.utils import constants as hl_constants\n",
    "info = Info(hl_constants.MAINNET_API_URL, skip_ws=True)\n",
    "data = info.post(\"/info\", {\"type\": \"metaAndAssetCtxs\"})\n",
    "\n",
    "# setup market\n",
    "import models.market as market\n",
    "importlib.reload(market)\n",
    "market = market.Market.from_response(data)\n"
   ]
  },
  {
   "cell_type": "markdown",
   "metadata": {},
   "source": []
  },
  {
   "cell_type": "code",
   "execution_count": 3,
   "metadata": {},
   "outputs": [
    {
     "data": {
      "text/plain": [
       "'Coin names exported to /Users/falcon/Developments/act/backtesting-playground/trading/constants/coin_names.py'"
      ]
     },
     "metadata": {},
     "output_type": "display_data"
    },
    {
     "data": {
      "text/plain": [
       "'Market object written to market.json'"
      ]
     },
     "metadata": {},
     "output_type": "display_data"
    }
   ],
   "source": [
    "display(market.export_coin_names())\n",
    "display(market.to_json_file(\"market.json\"))"
   ]
  },
  {
   "cell_type": "code",
   "execution_count": null,
   "metadata": {},
   "outputs": [],
   "source": []
  }
 ],
 "metadata": {
  "kernelspec": {
   "display_name": "env",
   "language": "python",
   "name": "python3"
  },
  "language_info": {
   "codemirror_mode": {
    "name": "ipython",
    "version": 3
   },
   "file_extension": ".py",
   "mimetype": "text/x-python",
   "name": "python",
   "nbconvert_exporter": "python",
   "pygments_lexer": "ipython3",
   "version": "3.11.5"
  }
 },
 "nbformat": 4,
 "nbformat_minor": 2
}
