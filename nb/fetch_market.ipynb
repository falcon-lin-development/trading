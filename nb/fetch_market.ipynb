{
 "cells": [
  {
   "cell_type": "code",
   "execution_count": 1,
   "metadata": {},
   "outputs": [],
   "source": [
    "from hyperliquid.info import Info\n",
    "from hyperliquid.utils import constants as hl_constants\n",
    "\n",
    "info = Info(hl_constants.TESTNET_API_URL, skip_ws=True)"
   ]
  },
  {
   "cell_type": "code",
   "execution_count": 2,
   "metadata": {},
   "outputs": [],
   "source": [
    "data = info.post(\"/info\", {\"type\": \"metaAndAssetCtxs\"})"
   ]
  },
  {
   "cell_type": "code",
   "execution_count": 6,
   "metadata": {},
   "outputs": [
    {
     "data": {
      "text/plain": [
       "'Coin names exported to constants/coin_names.py'"
      ]
     },
     "execution_count": 6,
     "metadata": {},
     "output_type": "execute_result"
    }
   ],
   "source": [
    "import models.market as market\n",
    "import importlib\n",
    "\n",
    "importlib.reload(market)\n",
    "market = market.Market.fromJson(data)\n",
    "\n",
    "market.export_coin_names()"
   ]
  },
  {
   "cell_type": "markdown",
   "metadata": {},
   "source": []
  },
  {
   "cell_type": "code",
   "execution_count": 7,
   "metadata": {},
   "outputs": [
    {
     "data": {
      "text/plain": [
       "'Market object written to market.json'"
      ]
     },
     "execution_count": 7,
     "metadata": {},
     "output_type": "execute_result"
    }
   ],
   "source": [
    "market.to_json_file(\"market.json\")"
   ]
  },
  {
   "cell_type": "code",
   "execution_count": 9,
   "metadata": {},
   "outputs": [
    {
     "data": {
      "text/plain": [
       "{'maxLeverage': 50,\n",
       " 'name': 'SOL',\n",
       " 'onlyIsolated': False,\n",
       " 'szDecimals': 2,\n",
       " 'marketData': {'dayNtlVlm': '6599027.6377',\n",
       "  'funding': '0.00002074',\n",
       "  'impactPxs': ['146.29', '146.32'],\n",
       "  'markPx': '146.31',\n",
       "  'midPx': '146.305',\n",
       "  'openInterest': '6749.55',\n",
       "  'oraclePx': '146.19',\n",
       "  'premium': '0.00068404',\n",
       "  'prevDayPx': '144.38'}}"
      ]
     },
     "execution_count": 9,
     "metadata": {},
     "output_type": "execute_result"
    }
   ],
   "source": [
    "from constants.coin_names import CoinNames\n",
    "market.coins[CoinNames.SOL.name].to_dict()"
   ]
  },
  {
   "cell_type": "code",
   "execution_count": null,
   "metadata": {},
   "outputs": [],
   "source": []
  }
 ],
 "metadata": {
  "kernelspec": {
   "display_name": "env",
   "language": "python",
   "name": "python3"
  },
  "language_info": {
   "codemirror_mode": {
    "name": "ipython",
    "version": 3
   },
   "file_extension": ".py",
   "mimetype": "text/x-python",
   "name": "python",
   "nbconvert_exporter": "python",
   "pygments_lexer": "ipython3",
   "version": "3.11.4"
  }
 },
 "nbformat": 4,
 "nbformat_minor": 2
}
