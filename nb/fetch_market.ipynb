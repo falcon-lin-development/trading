{
 "cells": [
  {
   "cell_type": "code",
   "execution_count": 1,
   "metadata": {},
   "outputs": [
    {
     "name": "stdout",
     "output_type": "stream",
     "text": [
      "Added project root to sys.path: /Users/falconlin/Development/trading\n",
      "Initialized project with base directory: /Users/falconlin/Development/trading\n"
     ]
    }
   ],
   "source": [
    "import nb_setup \n",
    "import importlib\n",
    "importlib.reload(nb_setup)\n",
    "nb_setup.init()"
   ]
  },
  {
   "cell_type": "code",
   "execution_count": 2,
   "metadata": {},
   "outputs": [],
   "source": [
    "from hyperliquid.info import Info\n",
    "from hyperliquid.utils import constants as hl_constants\n",
    "\n",
    "info = Info(hl_constants.TESTNET_API_URL, skip_ws=True)"
   ]
  },
  {
   "cell_type": "code",
   "execution_count": 3,
   "metadata": {},
   "outputs": [],
   "source": [
    "data = info.post(\"/info\", {\"type\": \"metaAndAssetCtxs\"})"
   ]
  },
  {
   "cell_type": "code",
   "execution_count": 4,
   "metadata": {},
   "outputs": [
    {
     "data": {
      "text/plain": [
       "'Coin names exported to /Users/falconlin/Development/trading/constants/coin_names.py'"
      ]
     },
     "execution_count": 4,
     "metadata": {},
     "output_type": "execute_result"
    }
   ],
   "source": [
    "import models.market as market\n",
    "import importlib\n",
    "\n",
    "importlib.reload(market)\n",
    "market = market.Market.fromJson(data)\n",
    "\n",
    "market.export_coin_names()"
   ]
  },
  {
   "cell_type": "markdown",
   "metadata": {},
   "source": []
  },
  {
   "cell_type": "code",
   "execution_count": 5,
   "metadata": {},
   "outputs": [
    {
     "data": {
      "text/plain": [
       "'Market object written to market.json'"
      ]
     },
     "execution_count": 5,
     "metadata": {},
     "output_type": "execute_result"
    }
   ],
   "source": [
    "market.to_json_file(\"market.json\")"
   ]
  },
  {
   "cell_type": "code",
   "execution_count": 6,
   "metadata": {},
   "outputs": [
    {
     "data": {
      "text/plain": [
       "{'maxLeverage': 50,\n",
       " 'name': 'SOL',\n",
       " 'onlyIsolated': False,\n",
       " 'szDecimals': 2,\n",
       " 'marketData': {'dayNtlVlm': '6562002.7822',\n",
       "  'funding': '0.00002143',\n",
       "  'impactPxs': ['146.05', '146.08'],\n",
       "  'markPx': '146.04',\n",
       "  'midPx': '146.065',\n",
       "  'openInterest': '6701.13',\n",
       "  'oraclePx': '145.93',\n",
       "  'premium': '0.00082231',\n",
       "  'prevDayPx': '144.75'}}"
      ]
     },
     "execution_count": 6,
     "metadata": {},
     "output_type": "execute_result"
    }
   ],
   "source": [
    "from constants.coin_names import CoinNames\n",
    "market.coins[CoinNames.SOL.name].to_dict()"
   ]
  },
  {
   "cell_type": "code",
   "execution_count": null,
   "metadata": {},
   "outputs": [],
   "source": []
  }
 ],
 "metadata": {
  "kernelspec": {
   "display_name": "env",
   "language": "python",
   "name": "python3"
  },
  "language_info": {
   "codemirror_mode": {
    "name": "ipython",
    "version": 3
   },
   "file_extension": ".py",
   "mimetype": "text/x-python",
   "name": "python",
   "nbconvert_exporter": "python",
   "pygments_lexer": "ipython3",
   "version": "3.11.4"
  }
 },
 "nbformat": 4,
 "nbformat_minor": 2
}
