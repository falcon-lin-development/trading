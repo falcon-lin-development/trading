{
 "cells": [
  {
   "cell_type": "code",
   "execution_count": 1,
   "metadata": {},
   "outputs": [
    {
     "name": "stdout",
     "output_type": "stream",
     "text": [
      "Added project root to sys.path: /Users/falcon/Developments/act/backtesting-playground/trading\n",
      "Changed current working directory to: /Users/falcon/Developments/act/backtesting-playground/trading\n",
      "Initialized project with base directory: /Users/falcon/Developments/act/backtesting-playground/trading\n"
     ]
    }
   ],
   "source": [
    "import nb_setup \n",
    "import importlib\n",
    "importlib.reload(nb_setup)\n",
    "nb_setup.init()"
   ]
  },
  {
   "cell_type": "code",
   "execution_count": 7,
   "metadata": {},
   "outputs": [
    {
     "data": {
      "text/plain": [
       "(21336, 13)"
      ]
     },
     "execution_count": 7,
     "metadata": {},
     "output_type": "execute_result"
    }
   ],
   "source": [
    "import numpy as np\n",
    "import pandas as pd\n",
    "\n",
    "df = pd.read_csv(\"data/all.csv\")\n",
    "df.shape"
   ]
  },
  {
   "cell_type": "code",
   "execution_count": 50,
   "metadata": {},
   "outputs": [],
   "source": [
    "import numpy as np\n",
    "import pandas as pd\n",
    "\n",
    "\n",
    "def rank_column(df, column, ascending=False):\n",
    "    _df = df.copy()\n",
    "    col_name = f\"rank_{column}\"\n",
    "    if col_name not in _df.columns:\n",
    "        _df[col_name] = np.nan\n",
    "    _df.loc[_df[col_name].isna(), col_name] = _df.groupby(\"start_time\")[column].rank(\n",
    "        ascending=ascending\n",
    "    )\n",
    "    return _df\n",
    "\n",
    "\n",
    "def remove_volatile_coins(df: pd.DataFrame, n=5):\n",
    "    \"\"\"\n",
    "    remove the most volatile coins, in terms of annualized standard deviation,\n",
    "    \"\"\"\n",
    "    _df = df.copy()\n",
    "    _df.loc[:, \"pct_change\"] = _df.groupby([\"symbol\"])[\"close\"].pct_change() * 100\n",
    "    rank_volatility = _df.groupby([\"symbol\"])[\"pct_change\"].std() * np.sqrt(252)\n",
    "    rank_volatility.sort_values(ascending=False, inplace=True)\n",
    "    # print removed coins, print left coins\n",
    "    display(rank_volatility)\n",
    "    display(rank_volatility.head(n).index)\n",
    "    _df = _df.loc[~_df[\"symbol\"].isin(rank_volatility.head(n).index)].drop(columns=\"pct_change\")\n",
    "    return _df"
   ]
  },
  {
   "cell_type": "code",
   "execution_count": 52,
   "metadata": {},
   "outputs": [
    {
     "data": {
      "text/plain": [
       "symbol\n",
       "WIF       106.227956\n",
       "kFLOKI     90.428015\n",
       "kPEPE      83.890005\n",
       "kBONK      77.602031\n",
       "kSHIB      66.807034\n",
       "ONDO       66.684182\n",
       "UNI        62.949357\n",
       "FET        61.250304\n",
       "JTO        61.076647\n",
       "AR         60.828825\n",
       "WLD        60.397364\n",
       "JUP        59.608209\n",
       "MAVIA      57.557368\n",
       "PENDLE     56.931187\n",
       "FTM        56.045259\n",
       "PIXEL      54.352342\n",
       "RNDR       53.626087\n",
       "NEAR       52.441497\n",
       "PYTH       52.225593\n",
       "DOGE       51.980774\n",
       "HBAR       51.638348\n",
       "BCH        50.539765\n",
       "AI         50.218730\n",
       "NEO        49.928448\n",
       "RUNE       49.763885\n",
       "CFX        49.651106\n",
       "ORDI       49.434161\n",
       "SEI        47.609149\n",
       "STRK       47.539106\n",
       "ENS        47.496079\n",
       "INJ        46.953070\n",
       "TON        46.816098\n",
       "TIA        46.529134\n",
       "STX        45.842220\n",
       "APT        45.803406\n",
       "FIL        45.310114\n",
       "SUI        43.417733\n",
       "AVAX       42.357962\n",
       "BLUR       41.982650\n",
       "OP         41.316385\n",
       "APE        40.857720\n",
       "SOL        40.750205\n",
       "LDO        40.432006\n",
       "CAKE       37.786555\n",
       "ARB        37.132508\n",
       "MKR        36.753550\n",
       "ADA        36.249737\n",
       "DOT        36.087339\n",
       "LINK       34.132698\n",
       "LTC        33.850460\n",
       "MATIC      32.911723\n",
       "ATOM       31.324201\n",
       "XRP        30.267741\n",
       "BNB        27.203604\n",
       "ETH        24.759859\n",
       "BTC        21.146057\n",
       "Name: pct_change, dtype: float64"
      ]
     },
     "metadata": {},
     "output_type": "display_data"
    },
    {
     "data": {
      "text/plain": [
       "Index(['WIF', 'kFLOKI', 'kPEPE', 'kBONK', 'kSHIB'], dtype='object', name='symbol')"
      ]
     },
     "metadata": {},
     "output_type": "display_data"
    },
    {
     "data": {
      "text/plain": [
       "(19431, 13)"
      ]
     },
     "metadata": {},
     "output_type": "display_data"
    },
    {
     "data": {
      "text/html": [
       "<div>\n",
       "<style scoped>\n",
       "    .dataframe tbody tr th:only-of-type {\n",
       "        vertical-align: middle;\n",
       "    }\n",
       "\n",
       "    .dataframe tbody tr th {\n",
       "        vertical-align: top;\n",
       "    }\n",
       "\n",
       "    .dataframe thead th {\n",
       "        text-align: right;\n",
       "    }\n",
       "</style>\n",
       "<table border=\"1\" class=\"dataframe\">\n",
       "  <thead>\n",
       "    <tr style=\"text-align: right;\">\n",
       "      <th></th>\n",
       "      <th>symbol</th>\n",
       "      <th>datetime</th>\n",
       "      <th>start_time</th>\n",
       "      <th>end_time</th>\n",
       "      <th>interval</th>\n",
       "      <th>number_of_trades</th>\n",
       "      <th>close</th>\n",
       "      <th>high</th>\n",
       "      <th>low</th>\n",
       "      <th>open</th>\n",
       "      <th>volume</th>\n",
       "      <th>tic</th>\n",
       "      <th>toc</th>\n",
       "    </tr>\n",
       "  </thead>\n",
       "  <tbody>\n",
       "    <tr>\n",
       "      <th>0</th>\n",
       "      <td>BTC</td>\n",
       "      <td>2024-02-21-16:00:00</td>\n",
       "      <td>2024-02-21-16:00:00</td>\n",
       "      <td>2024-02-21-19:59:59</td>\n",
       "      <td>4h</td>\n",
       "      <td>32541</td>\n",
       "      <td>51052.0</td>\n",
       "      <td>51436.0</td>\n",
       "      <td>50638.0</td>\n",
       "      <td>51160.0</td>\n",
       "      <td>978.55598</td>\n",
       "      <td>1708531200000</td>\n",
       "      <td>1708545599999</td>\n",
       "    </tr>\n",
       "    <tr>\n",
       "      <th>1</th>\n",
       "      <td>BTC</td>\n",
       "      <td>2024-02-21-20:00:00</td>\n",
       "      <td>2024-02-21-20:00:00</td>\n",
       "      <td>2024-02-21-23:59:59</td>\n",
       "      <td>4h</td>\n",
       "      <td>33938</td>\n",
       "      <td>51909.0</td>\n",
       "      <td>52000.0</td>\n",
       "      <td>50862.0</td>\n",
       "      <td>51052.0</td>\n",
       "      <td>1273.72087</td>\n",
       "      <td>1708545600000</td>\n",
       "      <td>1708559999999</td>\n",
       "    </tr>\n",
       "    <tr>\n",
       "      <th>2</th>\n",
       "      <td>BTC</td>\n",
       "      <td>2024-02-22-00:00:00</td>\n",
       "      <td>2024-02-22-00:00:00</td>\n",
       "      <td>2024-02-22-03:59:59</td>\n",
       "      <td>4h</td>\n",
       "      <td>25035</td>\n",
       "      <td>51595.0</td>\n",
       "      <td>51911.0</td>\n",
       "      <td>51161.0</td>\n",
       "      <td>51910.0</td>\n",
       "      <td>743.73055</td>\n",
       "      <td>1708560000000</td>\n",
       "      <td>1708574399999</td>\n",
       "    </tr>\n",
       "    <tr>\n",
       "      <th>3</th>\n",
       "      <td>BTC</td>\n",
       "      <td>2024-02-22-04:00:00</td>\n",
       "      <td>2024-02-22-04:00:00</td>\n",
       "      <td>2024-02-22-07:59:59</td>\n",
       "      <td>4h</td>\n",
       "      <td>18721</td>\n",
       "      <td>51866.0</td>\n",
       "      <td>51961.0</td>\n",
       "      <td>51365.0</td>\n",
       "      <td>51595.0</td>\n",
       "      <td>618.39497</td>\n",
       "      <td>1708574400000</td>\n",
       "      <td>1708588799999</td>\n",
       "    </tr>\n",
       "    <tr>\n",
       "      <th>4</th>\n",
       "      <td>BTC</td>\n",
       "      <td>2024-02-22-08:00:00</td>\n",
       "      <td>2024-02-22-08:00:00</td>\n",
       "      <td>2024-02-22-11:59:59</td>\n",
       "      <td>4h</td>\n",
       "      <td>16534</td>\n",
       "      <td>51621.0</td>\n",
       "      <td>52054.0</td>\n",
       "      <td>51520.0</td>\n",
       "      <td>51867.0</td>\n",
       "      <td>709.76714</td>\n",
       "      <td>1708588800000</td>\n",
       "      <td>1708603199999</td>\n",
       "    </tr>\n",
       "  </tbody>\n",
       "</table>\n",
       "</div>"
      ],
      "text/plain": [
       "  symbol             datetime           start_time             end_time  \\\n",
       "0    BTC  2024-02-21-16:00:00  2024-02-21-16:00:00  2024-02-21-19:59:59   \n",
       "1    BTC  2024-02-21-20:00:00  2024-02-21-20:00:00  2024-02-21-23:59:59   \n",
       "2    BTC  2024-02-22-00:00:00  2024-02-22-00:00:00  2024-02-22-03:59:59   \n",
       "3    BTC  2024-02-22-04:00:00  2024-02-22-04:00:00  2024-02-22-07:59:59   \n",
       "4    BTC  2024-02-22-08:00:00  2024-02-22-08:00:00  2024-02-22-11:59:59   \n",
       "\n",
       "  interval  number_of_trades    close     high      low     open      volume  \\\n",
       "0       4h             32541  51052.0  51436.0  50638.0  51160.0   978.55598   \n",
       "1       4h             33938  51909.0  52000.0  50862.0  51052.0  1273.72087   \n",
       "2       4h             25035  51595.0  51911.0  51161.0  51910.0   743.73055   \n",
       "3       4h             18721  51866.0  51961.0  51365.0  51595.0   618.39497   \n",
       "4       4h             16534  51621.0  52054.0  51520.0  51867.0   709.76714   \n",
       "\n",
       "             tic            toc  \n",
       "0  1708531200000  1708545599999  \n",
       "1  1708545600000  1708559999999  \n",
       "2  1708560000000  1708574399999  \n",
       "3  1708574400000  1708588799999  \n",
       "4  1708588800000  1708603199999  "
      ]
     },
     "execution_count": 52,
     "metadata": {},
     "output_type": "execute_result"
    }
   ],
   "source": [
    "_ = remove_volatile_coins(df, 5)\n",
    "display(_.shape)\n",
    "_.head()"
   ]
  },
  {
   "cell_type": "code",
   "execution_count": null,
   "metadata": {},
   "outputs": [],
   "source": [
    "def calculate_normalized_area_under_ema200(df):\n",
    "    pass\n"
   ]
  }
 ],
 "metadata": {
  "kernelspec": {
   "display_name": "env",
   "language": "python",
   "name": "python3"
  },
  "language_info": {
   "codemirror_mode": {
    "name": "ipython",
    "version": 3
   },
   "file_extension": ".py",
   "mimetype": "text/x-python",
   "name": "python",
   "nbconvert_exporter": "python",
   "pygments_lexer": "ipython3",
   "version": "3.11.5"
  }
 },
 "nbformat": 4,
 "nbformat_minor": 2
}
